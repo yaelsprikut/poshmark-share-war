{
 "cells": [
  {
   "cell_type": "markdown",
   "metadata": {},
   "source": [
    "![](https://d2zlsagv0ouax1.cloudfront.net/assets/home_page/hp-v5-logo@2x-6003c7f00d83f4df697830d18bdcf167.png)"
   ]
  },
  {
   "cell_type": "markdown",
   "metadata": {},
   "source": [
    "# Posh Mark Sharing Application"
   ]
  },
  {
   "cell_type": "markdown",
   "metadata": {},
   "source": [
    "Welcome to the PoshMark Sharing Web App. \n",
    "\n",
    "This app will allow you to quickly share all of your listings."
   ]
  },
  {
   "cell_type": "markdown",
   "metadata": {},
   "source": [
    "## Instructions\n",
    "\n",
    "To run the web app, simply run the cell below by clicking on the cell, and typing the following two keys\n",
    "\n",
    "`Control`+`Enter`\n",
    "\n",
    "That's it! The program will launch the default Firefox web browser, login, navigate to your listings, and share them with your subscribers using the default settings for the code. If desired, you may edit the command line options given in this Jupyter notebook.\n"
   ]
  },
  {
   "cell_type": "code",
   "execution_count": null,
   "metadata": {},
   "outputs": [],
   "source": [
    "#Click and Type Control+Enter\n",
    "! python3 share_war.py"
   ]
  },
  {
   "cell_type": "code",
   "execution_count": 2,
   "metadata": {},
   "outputs": [
    {
     "name": "stdout",
     "output_type": "stream",
     "text": [
      "usage: use \"python share_war.py --help\" for more information\r\n",
      "\r\n",
      "[*] Help file for share_war.py\r\n",
      "    from the poshmark_sharing repository:\r\n",
      "    https://github.com/jmausolf/poshmark_sharing\r\n",
      "\r\n",
      "optional arguments:\r\n",
      "  -h, --help            show this help message and exit\r\n",
      "  -t TIME, --time TIME  loop time in seconds to repeat the code\r\n",
      "                        \r\n",
      "                        :: example, repeat in two hours:\r\n",
      "                        -t 7200\r\n",
      "                         (default: 3600)\r\n",
      "  -n NUMBER, --number NUMBER\r\n",
      "                        number of closet scrolls (default: 7)\r\n",
      "  -o ORDER, --order ORDER\r\n",
      "                        preserve closet order (default: True)\r\n",
      "  -a ACCOUNT, --account ACCOUNT\r\n",
      "                        the poshmark closet account you want to share\r\n",
      "                        (default is the login account in credentials.py)\r\n",
      "                        \r\n",
      "                        :: example, share another user's closet items:\r\n",
      "                        -a another_username\r\n",
      "                         (default: clothesliveon)\r\n",
      "  -b BYPASS, --bypass BYPASS\r\n",
      "                        option to bypass user confirmation\r\n",
      "                        by default, if the account to be shared is not equal\r\n",
      "                        to the poshmark username, the user will be prompted to \r\n",
      "                        confirm this selection\r\n",
      "                        \r\n",
      "                        :: example, bypass user confirmation\r\n",
      "                        -b True\r\n",
      "                         (default: False)\r\n",
      "  -d DRIVER, --driver DRIVER\r\n",
      "                        selenium web driver selection\r\n",
      "                        drivers may be called by either entering the name\r\n",
      "                        of the driver or entering the numeric code \r\n",
      "                        for that driver name as follows:\r\n",
      "                        Firefox==0, Chrome==1, Edge==2, Safari==3\r\n",
      "                        \r\n",
      "                        :: example, use Firefox:\r\n",
      "                        -d Firefox \r\n",
      "                        -d 0\r\n",
      "                        \r\n",
      "                        :: example, use Chrome:\r\n",
      "                        -d Chrome\r\n",
      "                        -d 1\r\n",
      "                         (default: 0)\r\n"
     ]
    }
   ],
   "source": [
    "# Display Help File\n",
    "! python3 share_war.py -h"
   ]
  },
  {
   "cell_type": "markdown",
   "metadata": {},
   "source": [
    "---\n",
    "\n",
    "\n",
    "##### To learn more about the setup instructions and code for this app, please visit Github: [github.com/jmausolf/poshmark_sharing](http://www.github.com/jmausolf/poshmark_sharing)\n",
    "\n"
   ]
  }
 ],
 "metadata": {
  "kernelspec": {
   "display_name": "Python 3",
   "language": "python",
   "name": "python3"
  },
  "language_info": {
   "codemirror_mode": {
    "name": "ipython",
    "version": 3
   },
   "file_extension": ".py",
   "mimetype": "text/x-python",
   "name": "python",
   "nbconvert_exporter": "python",
   "pygments_lexer": "ipython3",
   "version": "3.5.1"
  }
 },
 "nbformat": 4,
 "nbformat_minor": 1
}
